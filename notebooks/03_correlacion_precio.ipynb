{
 "cells": [
  {
   "cell_type": "markdown",
   "id": "04e72291",
   "metadata": {},
   "source": [
    "# Correlación\n",
    "... "
   ]
  }
 ],
 "metadata": {
  "language_info": {
   "name": "python"
  }
 },
 "nbformat": 4,
 "nbformat_minor": 5
}
