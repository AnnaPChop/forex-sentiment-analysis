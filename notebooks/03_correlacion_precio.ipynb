{
 "cells": [
  {
   "cell_type": "markdown",
   "id": "04e72291",
   "metadata": {},
   "source": [
    "# Correlación Precio - Sentimiento\n",
    "## Librerías a utilizar: "
   ]
  },
  {
   "cell_type": "code",
   "execution_count": 6,
   "id": "31e1c91d",
   "metadata": {},
   "outputs": [],
   "source": [
    "import pandas as pd\n",
    "import numpy as np\n",
    "import matplotlib.pyplot as plt\n",
    "from sklearn.linear_model import LogisticRegression\n",
    "from sklearn.metrics import accuracy_score, roc_auc_score, classification_report, confusion_matrix, ConfusionMatrixDisplay\n"
   ]
  },
  {
   "cell_type": "markdown",
   "id": "69a03519",
   "metadata": {},
   "source": [
    "## Datos a usar"
   ]
  },
  {
   "cell_type": "code",
   "execution_count": 8,
   "id": "87c3cdac",
   "metadata": {},
   "outputs": [],
   "source": [
    "eurusd = pd.read_csv(\"../data/EUR_USD_prices.csv\")\n",
    "eurusd[\"date\"] = pd.to_datetime(eurusd[\"date\"])\n",
    "eurusd.set_index(\"date\", inplace=True)\n",
    "\n",
    "sent = pd.read_csv(\"../data/daily_sentiment.csv\")  # <- archivo del notebook 2\n",
    "sent[\"date\"] = pd.to_datetime(sent[\"date\"])\n",
    "sent.set_index(\"date\", inplace=True)\n",
    "\n",
    "# promedio diario de sentimiento con ffill\n",
    "sent_daily = sent.resample(\"D\").mean().ffill()\n",
    "\n",
    "# merge\n",
    "df = eurusd.join(sent_daily, how=\"inner\")\n"
   ]
  },
  {
   "cell_type": "markdown",
   "id": "9c1c6432",
   "metadata": {},
   "source": [
    "## Features"
   ]
  },
  {
   "cell_type": "code",
   "execution_count": 9,
   "id": "acaf42dc",
   "metadata": {},
   "outputs": [],
   "source": [
    "df[\"ret\"] = np.log(df[\"4. close\"] / df[\"4. close\"].shift(1))\n",
    "df[\"dir\"] = (df[\"ret\"] > 0).astype(int)\n",
    "df[\"tr\"] = df[\"2. high\"] - df[\"3. low\"]\n",
    "df[\"vol20\"] = df[\"ret\"].rolling(20).std()\n",
    "\n",
    "for lag in [1,2,3,5]:\n",
    "    df[f\"sent_lag{lag}\"] = df[\"sent_mean\"].shift(lag)\n",
    "\n",
    "df.dropna(inplace=True)\n",
    "\n",
    "# target = dirección del día siguiente\n",
    "df[\"target\"] = df[\"dir\"].shift(-1)\n",
    "df.dropna(inplace=True)\n"
   ]
  },
  {
   "cell_type": "markdown",
   "id": "77eaf5f2",
   "metadata": {},
   "source": []
  }
 ],
 "metadata": {
  "kernelspec": {
   "display_name": "Python 3",
   "language": "python",
   "name": "python3"
  },
  "language_info": {
   "codemirror_mode": {
    "name": "ipython",
    "version": 3
   },
   "file_extension": ".py",
   "mimetype": "text/x-python",
   "name": "python",
   "nbconvert_exporter": "python",
   "pygments_lexer": "ipython3",
   "version": "3.12.4"
  }
 },
 "nbformat": 4,
 "nbformat_minor": 5
}
